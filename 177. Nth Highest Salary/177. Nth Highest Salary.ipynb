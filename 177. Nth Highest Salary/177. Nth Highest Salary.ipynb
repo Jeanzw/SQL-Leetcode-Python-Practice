{
 "cells": [
  {
   "cell_type": "code",
   "execution_count": 1,
   "metadata": {},
   "outputs": [],
   "source": [
    "my_dict = {2:3, 5:6, 8:9}"
   ]
  },
  {
   "cell_type": "code",
   "execution_count": 4,
   "metadata": {},
   "outputs": [
    {
     "name": "stdout",
     "output_type": "stream",
     "text": [
      "2 3\n",
      "5 6\n",
      "8 9\n",
      "{3: 2, 6: 5, 9: 8}\n"
     ]
    }
   ],
   "source": [
    "new_dic = {}\n",
    "for k, v in my_dict.items():\n",
    "    print(k,v)\n",
    "    new_dic[v] = k\n",
    "\n",
    "print(new_dic)"
   ]
  },
  {
   "cell_type": "code",
   "execution_count": null,
   "metadata": {},
   "outputs": [],
   "source": []
  }
 ],
 "metadata": {
  "kernelspec": {
   "display_name": "Python 3",
   "language": "python",
   "name": "python3"
  },
  "language_info": {
   "codemirror_mode": {
    "name": "ipython",
    "version": 3
   },
   "file_extension": ".py",
   "mimetype": "text/x-python",
   "name": "python",
   "nbconvert_exporter": "python",
   "pygments_lexer": "ipython3",
   "version": "3.7.3"
  }
 },
 "nbformat": 4,
 "nbformat_minor": 2
}
