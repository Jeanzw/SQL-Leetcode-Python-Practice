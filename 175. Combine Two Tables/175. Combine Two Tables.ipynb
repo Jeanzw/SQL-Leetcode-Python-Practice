{
 "cells": [
  {
   "cell_type": "markdown",
   "metadata": {},
   "source": [
    "# 1. Load The Data"
   ]
  },
  {
   "cell_type": "code",
   "execution_count": 1,
   "metadata": {},
   "outputs": [],
   "source": [
    "import pandas as pd\n",
    "import numpy as np"
   ]
  },
  {
   "cell_type": "code",
   "execution_count": 2,
   "metadata": {},
   "outputs": [],
   "source": [
    "# 将csv文件导入python并且这已经是生成了dataframe格式了\n",
    "person = pd.read_csv(\"Person.csv\")\n",
    "address = pd.read_csv(\"Address.csv\")\n",
    "\n",
    "# 这里其实是生成了默认的index 0,1,2...\n",
    "# 但是其实我们可以让某一列作为index\n",
    "# person = pd.read_csv(\"Person.csv\",index_col = 'personId') -> 这样子就使得personId成为了index\n",
    "# 那么我们在join的时候，如果on = ‘’那么就会直接按照index进行join"
   ]
  },
  {
   "cell_type": "code",
   "execution_count": 3,
   "metadata": {},
   "outputs": [
    {
     "data": {
      "text/html": [
       "<div>\n",
       "<style scoped>\n",
       "    .dataframe tbody tr th:only-of-type {\n",
       "        vertical-align: middle;\n",
       "    }\n",
       "\n",
       "    .dataframe tbody tr th {\n",
       "        vertical-align: top;\n",
       "    }\n",
       "\n",
       "    .dataframe thead th {\n",
       "        text-align: right;\n",
       "    }\n",
       "</style>\n",
       "<table border=\"1\" class=\"dataframe\">\n",
       "  <thead>\n",
       "    <tr style=\"text-align: right;\">\n",
       "      <th></th>\n",
       "      <th>personId</th>\n",
       "      <th>lastName</th>\n",
       "      <th>firstName</th>\n",
       "    </tr>\n",
       "  </thead>\n",
       "  <tbody>\n",
       "    <tr>\n",
       "      <th>0</th>\n",
       "      <td>1</td>\n",
       "      <td>Wang</td>\n",
       "      <td>Allen</td>\n",
       "    </tr>\n",
       "    <tr>\n",
       "      <th>1</th>\n",
       "      <td>2</td>\n",
       "      <td>Alice</td>\n",
       "      <td>Bob</td>\n",
       "    </tr>\n",
       "  </tbody>\n",
       "</table>\n",
       "</div>"
      ],
      "text/plain": [
       "   personId lastName firstName\n",
       "0         1     Wang     Allen\n",
       "1         2    Alice       Bob"
      ]
     },
     "execution_count": 3,
     "metadata": {},
     "output_type": "execute_result"
    }
   ],
   "source": [
    "person"
   ]
  },
  {
   "cell_type": "code",
   "execution_count": 4,
   "metadata": {},
   "outputs": [
    {
     "data": {
      "text/html": [
       "<div>\n",
       "<style scoped>\n",
       "    .dataframe tbody tr th:only-of-type {\n",
       "        vertical-align: middle;\n",
       "    }\n",
       "\n",
       "    .dataframe tbody tr th {\n",
       "        vertical-align: top;\n",
       "    }\n",
       "\n",
       "    .dataframe thead th {\n",
       "        text-align: right;\n",
       "    }\n",
       "</style>\n",
       "<table border=\"1\" class=\"dataframe\">\n",
       "  <thead>\n",
       "    <tr style=\"text-align: right;\">\n",
       "      <th></th>\n",
       "      <th>addressId</th>\n",
       "      <th>personId</th>\n",
       "      <th>city</th>\n",
       "      <th>state</th>\n",
       "    </tr>\n",
       "  </thead>\n",
       "  <tbody>\n",
       "    <tr>\n",
       "      <th>0</th>\n",
       "      <td>1</td>\n",
       "      <td>2</td>\n",
       "      <td>New York City</td>\n",
       "      <td>New York</td>\n",
       "    </tr>\n",
       "    <tr>\n",
       "      <th>1</th>\n",
       "      <td>2</td>\n",
       "      <td>3</td>\n",
       "      <td>Leetcode</td>\n",
       "      <td>California</td>\n",
       "    </tr>\n",
       "  </tbody>\n",
       "</table>\n",
       "</div>"
      ],
      "text/plain": [
       "   addressId  personId           city       state\n",
       "0          1         2  New York City    New York\n",
       "1          2         3       Leetcode  California"
      ]
     },
     "execution_count": 4,
     "metadata": {},
     "output_type": "execute_result"
    }
   ],
   "source": [
    "address"
   ]
  },
  {
   "cell_type": "markdown",
   "metadata": {},
   "source": [
    "# 2. Data Processing"
   ]
  },
  {
   "cell_type": "markdown",
   "metadata": {},
   "source": [
    "### Join的用法\n",
    "https://zhuanlan.zhihu.com/p/45442554 -> Pandas DataFrame连接表，Merge, Join, Concat的对比\n",
    "#### DataFrame.join(other, on=None, how='left', lsuffix='', rsuffix='', sort=False)\n",
    "- DataFrame: 表a\n",
    "- other: 表b\n",
    "- on: 按照哪一列进行join，如果不写，那么就是默认按照index join\n",
    "- how: 就是sql里面的left，right，inner，outer，默认left\n",
    "- Isuffix：如果有重复列，那么靠左边的后缀\n",
    "- rsuffix：如果有重复列，那么靠右边的后缀\n",
    "\n",
    "#### 注意的几点\n",
    "- 列名有重复的时候，必须在JOIN的时候设置lsuffix, rsuffix参数，否则会报错；如果列名不重复，则直接用' df1.join(df2) '即可。\n",
    "- 用JOIN实现基于列索引的合并主要考虑三种情况：\n",
    "    - 列名不同，列内容有相同：需要用到 l.join(r.set_index(r的某一列), on='l中的要和r join的那一列')\n",
    "    - 列名相同，列内容有相同：需要用到 l.join(r.set_index(r的某一列), on='l中要和r join的那一列，但因列名相同，所以和前面的是一样的')；特别注意，即使列名相同了，也必须用到set_index(key)否则连接就会出现很奇怪的情况，有些甚至就是null\n",
    "    - 列名不同，列内容也不同：典型的行索引，不能用JOIN的ON参数进行列连接\n",
    "\n"
   ]
  },
  {
   "cell_type": "code",
   "execution_count": 7,
   "metadata": {},
   "outputs": [
    {
     "data": {
      "text/html": [
       "<div>\n",
       "<style scoped>\n",
       "    .dataframe tbody tr th:only-of-type {\n",
       "        vertical-align: middle;\n",
       "    }\n",
       "\n",
       "    .dataframe tbody tr th {\n",
       "        vertical-align: top;\n",
       "    }\n",
       "\n",
       "    .dataframe thead th {\n",
       "        text-align: right;\n",
       "    }\n",
       "</style>\n",
       "<table border=\"1\" class=\"dataframe\">\n",
       "  <thead>\n",
       "    <tr style=\"text-align: right;\">\n",
       "      <th></th>\n",
       "      <th>firstName</th>\n",
       "      <th>lastName</th>\n",
       "      <th>city</th>\n",
       "      <th>state</th>\n",
       "    </tr>\n",
       "  </thead>\n",
       "  <tbody>\n",
       "    <tr>\n",
       "      <th>0</th>\n",
       "      <td>Allen</td>\n",
       "      <td>Wang</td>\n",
       "      <td>NaN</td>\n",
       "      <td>NaN</td>\n",
       "    </tr>\n",
       "    <tr>\n",
       "      <th>1</th>\n",
       "      <td>Bob</td>\n",
       "      <td>Alice</td>\n",
       "      <td>New York City</td>\n",
       "      <td>New York</td>\n",
       "    </tr>\n",
       "  </tbody>\n",
       "</table>\n",
       "</div>"
      ],
      "text/plain": [
       "  firstName lastName           city     state\n",
       "0     Allen     Wang            NaN       NaN\n",
       "1       Bob    Alice  New York City  New York"
      ]
     },
     "execution_count": 7,
     "metadata": {},
     "output_type": "execute_result"
    }
   ],
   "source": [
    "join_res = person.join(address.set_index('personId'), on = 'personId')[['firstName','lastName','city','state']] # 选择某些列\n",
    "# 我们一旦用了set_index，那么相当于address这一张表的personId将作为address的index，然后按照personId与person进行join\n",
    "# 那么address这张表的personId就不会出现在结果里，因为它已经变成了address的index了\n",
    "join_res"
   ]
  },
  {
   "cell_type": "markdown",
   "metadata": {},
   "source": [
    "# Output"
   ]
  },
  {
   "cell_type": "code",
   "execution_count": 1,
   "metadata": {},
   "outputs": [],
   "source": [
    "# Person table:\n",
    "# +----------+----------+-----------+\n",
    "# | personId | lastName | firstName |\n",
    "# +----------+----------+-----------+\n",
    "# | 1        | Wang     | Allen     |\n",
    "# | 2        | Alice    | Bob       |\n",
    "# +----------+----------+-----------+\n",
    "\n",
    "# Address table:\n",
    "# +-----------+----------+---------------+------------+\n",
    "# | addressId | personId | city          | state      |\n",
    "# +-----------+----------+---------------+------------+\n",
    "# | 1         | 2        | New York City | New York   |\n",
    "# | 2         | 3        | Leetcode      | California |\n",
    "# +-----------+----------+---------------+------------+\n",
    "\n",
    "# Output: \n",
    "# +-----------+----------+---------------+----------+\n",
    "# | firstName | lastName | city          | state    |\n",
    "# +-----------+----------+---------------+----------+\n",
    "# | Allen     | Wang     | Null          | Null     |\n",
    "# | Bob       | Alice    | New York City | New York |\n",
    "# +-----------+----------+---------------+----------+\n",
    "\n"
   ]
  },
  {
   "cell_type": "code",
   "execution_count": null,
   "metadata": {},
   "outputs": [],
   "source": []
  }
 ],
 "metadata": {
  "kernelspec": {
   "display_name": "Python 3",
   "language": "python",
   "name": "python3"
  },
  "language_info": {
   "codemirror_mode": {
    "name": "ipython",
    "version": 3
   },
   "file_extension": ".py",
   "mimetype": "text/x-python",
   "name": "python",
   "nbconvert_exporter": "python",
   "pygments_lexer": "ipython3",
   "version": "3.7.3"
  }
 },
 "nbformat": 4,
 "nbformat_minor": 2
}
